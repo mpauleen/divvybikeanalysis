{
 "cells": [
  {
   "cell_type": "code",
   "execution_count": 5,
   "metadata": {
    "collapsed": true
   },
   "outputs": [],
   "source": [
    "%matplotlib inline"
   ]
  },
  {
   "cell_type": "code",
   "execution_count": 2,
   "metadata": {},
   "outputs": [
    {
     "name": "stderr",
     "output_type": "stream",
     "text": [
      "/home/lab.analytics.northwestern.edu/mpauleen/.local/lib/python3.5/site-packages/statsmodels/compat/pandas.py:56: FutureWarning: The pandas.core.datetools module is deprecated and will be removed in a future version. Please use the pandas.tseries module instead.\n",
      "  from pandas.core import datetools\n"
     ]
    }
   ],
   "source": [
    "import pandas as pd\n",
    "import matplotlib.pyplot as plt\n",
    "from pandas.tseries.holiday import USFederalHolidayCalendar as calendar\n",
    "import statsmodels.api as sm\n",
    "from statsmodels.formula.api import glm\n",
    "from sklearn import metrics\n",
    "import pickle"
   ]
  },
  {
   "cell_type": "code",
   "execution_count": 4,
   "metadata": {
    "collapsed": true
   },
   "outputs": [],
   "source": [
    "hist = pd.read_csv('../data/raw/historical.csv')"
   ]
  },
  {
   "cell_type": "code",
   "execution_count": 11,
   "metadata": {
    "collapsed": true
   },
   "outputs": [],
   "source": [
    "def parse_dates(s):\n",
    "    \"\"\"\n",
    "    This is an extremely fast approach to datetime parsing.\n",
    "    For large data, the same dates are often repeated. Rather than\n",
    "    re-parse these, we store all unique dates, parse them, and\n",
    "    use a lookup to convert all dates.\n",
    "    \"\"\"\n",
    "    dates = {date:pd.to_datetime(date) for date in s.unique()}\n",
    "    return s.map(dates)"
   ]
  },
  {
   "cell_type": "code",
   "execution_count": 6,
   "metadata": {
    "collapsed": true
   },
   "outputs": [],
   "source": [
    "def rush_hour_indicator(df):\n",
    "    df['am_rush'] = ((df.ts.dt.hour >= 7) & (df.ts.dt.hour < 11)).astype(int)\n",
    "    df['pm_rush'] = ((df.ts.dt.hour >= 16) & (df.ts.dt.hour < 19)).astype(int)"
   ]
  },
  {
   "cell_type": "code",
   "execution_count": 7,
   "metadata": {
    "collapsed": true
   },
   "outputs": [],
   "source": [
    "def weekend_indicator(df):\n",
    "    df['weekend'] = (df.ts.dt.weekday >= 5).astype(int)"
   ]
  },
  {
   "cell_type": "code",
   "execution_count": 8,
   "metadata": {
    "collapsed": true
   },
   "outputs": [],
   "source": [
    "def holiday_indicator(df):\n",
    "    min_date = df.ts.min()\n",
    "    max_date = df.ts.max()\n",
    "    cal = calendar()\n",
    "    holidays = cal.holidays(start=min_date, end=max_date)\n",
    "    df['holiday'] = (df.ts.dt.date.astype('datetime64').isin(holidays)).astype(int)\n"
   ]
  },
  {
   "cell_type": "code",
   "execution_count": 12,
   "metadata": {},
   "outputs": [
    {
     "name": "stderr",
     "output_type": "stream",
     "text": [
      "/home/lab.analytics.northwestern.edu/mpauleen/.local/lib/python3.5/site-packages/pandas/core/internals.py:3462: FutureWarning: Passing in 'datetime64' dtype with no frequency is deprecated and will raise in a future version. Please pass in 'datetime64[ns]' instead.\n",
      "  return self.apply('astype', dtype=dtype, **kwargs)\n"
     ]
    }
   ],
   "source": [
    "hist['ts'] = parse_dates(hist.Timestamp)\n",
    "holiday_indicator(hist)\n",
    "weekend_indicator(hist)\n",
    "rush_hour_indicator(hist)\n",
    "hist['weekend_or_holiday'] = (hist['weekend'] | hist['holiday']).astype(int)\n",
    "hist['month'] = hist.ts.dt.month"
   ]
  },
  {
   "cell_type": "code",
   "execution_count": 13,
   "metadata": {
    "collapsed": true
   },
   "outputs": [],
   "source": [
    "hist['shortage'] = hist['Available Bikes'] <= 0"
   ]
  },
  {
   "cell_type": "code",
   "execution_count": 14,
   "metadata": {
    "collapsed": true
   },
   "outputs": [],
   "source": [
    "sorted_hist = hist.sort_values(by = ['ID','ts'])"
   ]
  },
  {
   "cell_type": "code",
   "execution_count": 15,
   "metadata": {
    "collapsed": true
   },
   "outputs": [],
   "source": [
    "by_id = sorted_hist.groupby('ID')"
   ]
  },
  {
   "cell_type": "code",
   "execution_count": 16,
   "metadata": {
    "collapsed": true
   },
   "outputs": [],
   "source": [
    "sorted_hist['shortage_in_30'] = (by_id.shortage.shift(-1) | by_id.shortage.shift(-2) | by_id.shortage.shift(-3)).astype(int)\n",
    "sorted_hist['percent_full_lag'] = by_id['Percent Full'].shift(1)\n",
    "sorted_hist['percent_full_delta'] = sorted_hist['percent_full_lag']-sorted_hist['Percent Full']"
   ]
  },
  {
   "cell_type": "code",
   "execution_count": 174,
   "metadata": {
    "collapsed": true
   },
   "outputs": [],
   "source": [
    "s2 = sorted_hist[sorted_hist.ID == 7]"
   ]
  },
  {
   "cell_type": "code",
   "execution_count": null,
   "metadata": {
    "collapsed": true
   },
   "outputs": [],
   "source": []
  },
  {
   "cell_type": "code",
   "execution_count": 175,
   "metadata": {
    "collapsed": true
   },
   "outputs": [],
   "source": [
    "model = glm('shortage_in_30 ~ C(month)+Q(\"Percent Full\")+weekend_or_holiday+am_rush+pm_rush+percent_full_delta', data=s2, family=sm.families.Binomial())"
   ]
  },
  {
   "cell_type": "code",
   "execution_count": 176,
   "metadata": {
    "collapsed": true
   },
   "outputs": [],
   "source": [
    "x = model.fit()"
   ]
  },
  {
   "cell_type": "code",
   "execution_count": 177,
   "metadata": {},
   "outputs": [
    {
     "data": {
      "text/html": [
       "<table class=\"simpletable\">\n",
       "<caption>Generalized Linear Model Regression Results</caption>\n",
       "<tr>\n",
       "  <th>Dep. Variable:</th>   <td>shortage_in_30</td>  <th>  No. Observations:  </th>  <td> 52338</td> \n",
       "</tr>\n",
       "<tr>\n",
       "  <th>Model:</th>                 <td>GLM</td>       <th>  Df Residuals:      </th>  <td> 52321</td> \n",
       "</tr>\n",
       "<tr>\n",
       "  <th>Model Family:</th>       <td>Binomial</td>     <th>  Df Model:          </th>  <td>    16</td> \n",
       "</tr>\n",
       "<tr>\n",
       "  <th>Link Function:</th>        <td>logit</td>      <th>  Scale:             </th>    <td>1.0</td>  \n",
       "</tr>\n",
       "<tr>\n",
       "  <th>Method:</th>               <td>IRLS</td>       <th>  Log-Likelihood:    </th> <td> -3306.3</td>\n",
       "</tr>\n",
       "<tr>\n",
       "  <th>Date:</th>           <td>Sat, 10 Mar 2018</td> <th>  Deviance:          </th> <td>  6612.7</td>\n",
       "</tr>\n",
       "<tr>\n",
       "  <th>Time:</th>               <td>16:37:04</td>     <th>  Pearson chi2:      </th> <td>3.96e+05</td>\n",
       "</tr>\n",
       "<tr>\n",
       "  <th>No. Iterations:</th>        <td>28</td>        <th>                     </th>     <td> </td>   \n",
       "</tr>\n",
       "</table>\n",
       "<table class=\"simpletable\">\n",
       "<tr>\n",
       "           <td></td>             <th>coef</th>     <th>std err</th>      <th>z</th>      <th>P>|z|</th>  <th>[0.025</th>    <th>0.975]</th>  \n",
       "</tr>\n",
       "<tr>\n",
       "  <th>Intercept</th>          <td>   -1.5050</td> <td>    0.335</td> <td>   -4.494</td> <td> 0.000</td> <td>   -2.161</td> <td>   -0.849</td>\n",
       "</tr>\n",
       "<tr>\n",
       "  <th>C(month)[T.2]</th>      <td>    1.2874</td> <td>    0.345</td> <td>    3.732</td> <td> 0.000</td> <td>    0.611</td> <td>    1.964</td>\n",
       "</tr>\n",
       "<tr>\n",
       "  <th>C(month)[T.3]</th>      <td>   -0.0840</td> <td>    0.457</td> <td>   -0.184</td> <td> 0.854</td> <td>   -0.980</td> <td>    0.813</td>\n",
       "</tr>\n",
       "<tr>\n",
       "  <th>C(month)[T.4]</th>      <td>    1.2537</td> <td>    0.345</td> <td>    3.630</td> <td> 0.000</td> <td>    0.577</td> <td>    1.931</td>\n",
       "</tr>\n",
       "<tr>\n",
       "  <th>C(month)[T.5]</th>      <td>    1.2161</td> <td>    0.339</td> <td>    3.586</td> <td> 0.000</td> <td>    0.551</td> <td>    1.881</td>\n",
       "</tr>\n",
       "<tr>\n",
       "  <th>C(month)[T.6]</th>      <td>    2.0298</td> <td>    0.337</td> <td>    6.021</td> <td> 0.000</td> <td>    1.369</td> <td>    2.691</td>\n",
       "</tr>\n",
       "<tr>\n",
       "  <th>C(month)[T.7]</th>      <td>    1.7633</td> <td>    0.335</td> <td>    5.268</td> <td> 0.000</td> <td>    1.107</td> <td>    2.419</td>\n",
       "</tr>\n",
       "<tr>\n",
       "  <th>C(month)[T.8]</th>      <td>    1.9868</td> <td>    0.336</td> <td>    5.909</td> <td> 0.000</td> <td>    1.328</td> <td>    2.646</td>\n",
       "</tr>\n",
       "<tr>\n",
       "  <th>C(month)[T.9]</th>      <td>    2.2616</td> <td>    0.340</td> <td>    6.648</td> <td> 0.000</td> <td>    1.595</td> <td>    2.928</td>\n",
       "</tr>\n",
       "<tr>\n",
       "  <th>C(month)[T.10]</th>     <td>    1.1313</td> <td>    0.345</td> <td>    3.283</td> <td> 0.001</td> <td>    0.456</td> <td>    1.807</td>\n",
       "</tr>\n",
       "<tr>\n",
       "  <th>C(month)[T.11]</th>     <td>  -22.8065</td> <td>  1.7e+04</td> <td>   -0.001</td> <td> 0.999</td> <td>-3.34e+04</td> <td> 3.33e+04</td>\n",
       "</tr>\n",
       "<tr>\n",
       "  <th>C(month)[T.12]</th>     <td>   -0.3799</td> <td>    0.392</td> <td>   -0.969</td> <td> 0.333</td> <td>   -1.149</td> <td>    0.389</td>\n",
       "</tr>\n",
       "<tr>\n",
       "  <th>Q(\"Percent Full\")</th>  <td>   -0.1857</td> <td>    0.004</td> <td>  -44.274</td> <td> 0.000</td> <td>   -0.194</td> <td>   -0.177</td>\n",
       "</tr>\n",
       "<tr>\n",
       "  <th>weekend_or_holiday</th> <td>    0.6984</td> <td>    0.067</td> <td>   10.466</td> <td> 0.000</td> <td>    0.568</td> <td>    0.829</td>\n",
       "</tr>\n",
       "<tr>\n",
       "  <th>am_rush</th>            <td>    0.5671</td> <td>    0.080</td> <td>    7.126</td> <td> 0.000</td> <td>    0.411</td> <td>    0.723</td>\n",
       "</tr>\n",
       "<tr>\n",
       "  <th>pm_rush</th>            <td>    0.0331</td> <td>    0.091</td> <td>    0.364</td> <td> 0.716</td> <td>   -0.145</td> <td>    0.211</td>\n",
       "</tr>\n",
       "<tr>\n",
       "  <th>percent_full_delta</th> <td>    0.0074</td> <td>    0.006</td> <td>    1.296</td> <td> 0.195</td> <td>   -0.004</td> <td>    0.019</td>\n",
       "</tr>\n",
       "</table>"
      ],
      "text/plain": [
       "<class 'statsmodels.iolib.summary.Summary'>\n",
       "\"\"\"\n",
       "                 Generalized Linear Model Regression Results                  \n",
       "==============================================================================\n",
       "Dep. Variable:         shortage_in_30   No. Observations:                52338\n",
       "Model:                            GLM   Df Residuals:                    52321\n",
       "Model Family:                Binomial   Df Model:                           16\n",
       "Link Function:                  logit   Scale:                             1.0\n",
       "Method:                          IRLS   Log-Likelihood:                -3306.3\n",
       "Date:                Sat, 10 Mar 2018   Deviance:                       6612.7\n",
       "Time:                        16:37:04   Pearson chi2:                 3.96e+05\n",
       "No. Iterations:                    28                                         \n",
       "======================================================================================\n",
       "                         coef    std err          z      P>|z|      [0.025      0.975]\n",
       "--------------------------------------------------------------------------------------\n",
       "Intercept             -1.5050      0.335     -4.494      0.000      -2.161      -0.849\n",
       "C(month)[T.2]          1.2874      0.345      3.732      0.000       0.611       1.964\n",
       "C(month)[T.3]         -0.0840      0.457     -0.184      0.854      -0.980       0.813\n",
       "C(month)[T.4]          1.2537      0.345      3.630      0.000       0.577       1.931\n",
       "C(month)[T.5]          1.2161      0.339      3.586      0.000       0.551       1.881\n",
       "C(month)[T.6]          2.0298      0.337      6.021      0.000       1.369       2.691\n",
       "C(month)[T.7]          1.7633      0.335      5.268      0.000       1.107       2.419\n",
       "C(month)[T.8]          1.9868      0.336      5.909      0.000       1.328       2.646\n",
       "C(month)[T.9]          2.2616      0.340      6.648      0.000       1.595       2.928\n",
       "C(month)[T.10]         1.1313      0.345      3.283      0.001       0.456       1.807\n",
       "C(month)[T.11]       -22.8065    1.7e+04     -0.001      0.999   -3.34e+04    3.33e+04\n",
       "C(month)[T.12]        -0.3799      0.392     -0.969      0.333      -1.149       0.389\n",
       "Q(\"Percent Full\")     -0.1857      0.004    -44.274      0.000      -0.194      -0.177\n",
       "weekend_or_holiday     0.6984      0.067     10.466      0.000       0.568       0.829\n",
       "am_rush                0.5671      0.080      7.126      0.000       0.411       0.723\n",
       "pm_rush                0.0331      0.091      0.364      0.716      -0.145       0.211\n",
       "percent_full_delta     0.0074      0.006      1.296      0.195      -0.004       0.019\n",
       "======================================================================================\n",
       "\"\"\""
      ]
     },
     "execution_count": 177,
     "metadata": {},
     "output_type": "execute_result"
    }
   ],
   "source": [
    "x.summary()"
   ]
  },
  {
   "cell_type": "code",
   "execution_count": 178,
   "metadata": {
    "collapsed": true
   },
   "outputs": [],
   "source": [
    "fpr, tpr, thresh = metrics.roc_curve(s2.shortage_in_30[1:], x.predict())"
   ]
  },
  {
   "cell_type": "code",
   "execution_count": 188,
   "metadata": {},
   "outputs": [
    {
     "data": {
      "text/plain": [
       "0.9775987232575467"
      ]
     },
     "execution_count": 188,
     "metadata": {},
     "output_type": "execute_result"
    }
   ],
   "source": [
    "metrics.roc_auc_score(s2.shortage_in_30[1:], x.predict())"
   ]
  },
  {
   "cell_type": "code",
   "execution_count": 179,
   "metadata": {},
   "outputs": [
    {
     "data": {
      "text/plain": [
       "[<matplotlib.lines.Line2D at 0x7fbebfe3ddd8>]"
      ]
     },
     "execution_count": 179,
     "metadata": {},
     "output_type": "execute_result"
    },
    {
     "data": {
      "image/png": "[encoded data removed]",
      "text/plain": [
       "<matplotlib.figure.Figure at 0x7fbebfed2da0>"
      ]
     },
     "metadata": {},
     "output_type": "display_data"
    }
   ],
   "source": [
    "plt.plot(thresh, tpr)\n",
    "plt.plot(thresh, fpr)\n",
    "plt.plot(fpr, tpr)\n"
   ]
  },
  {
   "cell_type": "code",
   "execution_count": 160,
   "metadata": {},
   "outputs": [
    {
     "data": {
      "text/plain": [
       "(array([46967.,  1156.,  1016.,   517.,   535.,   368.,   366.,   653.,\n",
       "          285.,   475.]),\n",
       " array([2.86473048e-12, 8.84402863e-02, 1.76880573e-01, 2.65320859e-01,\n",
       "        3.53761145e-01, 4.42201431e-01, 5.30641718e-01, 6.19082004e-01,\n",
       "        7.07522290e-01, 7.95962576e-01, 8.84402863e-01]),\n",
       " <a list of 10 Patch objects>)"
      ]
     },
     "execution_count": 160,
     "metadata": {},
     "output_type": "execute_result"
    },
    {
     "data": {
      "image/png": "[encoded data removed]",
      "text/plain": [
       "<matplotlib.figure.Figure at 0x7fbeb9241a58>"
      ]
     },
     "metadata": {},
     "output_type": "display_data"
    }
   ],
   "source": [
    "plt.hist(x.predict())"
   ]
  },
  {
   "cell_type": "code",
   "execution_count": null,
   "metadata": {
    "collapsed": true
   },
   "outputs": [],
   "source": []
  },
  {
   "cell_type": "code",
   "execution_count": 21,
   "metadata": {
    "collapsed": true
   },
   "outputs": [],
   "source": [
    "s1 = hist[hist.ID == 36]"
   ]
  },
  {
   "cell_type": "code",
   "execution_count": 17,
   "metadata": {
    "collapsed": true
   },
   "outputs": [],
   "source": [
    "zeros = hist[hist['Available Vi'] <= 0]"
   ]
  },
  {
   "cell_type": "code",
   "execution_count": 42,
   "metadata": {},
   "outputs": [
    {
     "data": {
      "image/png": "[encoded data removed]",
      "text/plain": [
       "<matplotlib.figure.Figure at 0x7fac01952c10>"
      ]
     },
     "metadata": {},
     "output_type": "display_data"
    }
   ],
   "source": [
    "hist[hist.ID == 100 &].head(400).plot(x = 'Timestamp', y = 'Available Bikes')\n",
    "plt.show()"
   ]
  },
  {
   "cell_type": "markdown",
   "metadata": {},
   "source": [
    "Model Building Loop"
   ]
  },
  {
   "cell_type": "code",
   "execution_count": 183,
   "metadata": {
    "collapsed": true
   },
   "outputs": [],
   "source": [
    "unique_ids = sorted_hist.ID.unique()\n",
    "station_models = dict.fromkeys(unique_ids)"
   ]
  },
  {
   "cell_type": "code",
   "execution_count": 184,
   "metadata": {
    "collapsed": true
   },
   "outputs": [],
   "source": [
    "for station_id in unique_ids:\n",
    "    model = glm('shortage_in_30 ~ C(month)+Q(\"Percent Full\")+weekend_or_holiday+am_rush+pm_rush+percent_full_delta', data=sorted_hist[sorted_hist.ID == station_id], family=sm.families.Binomial())\n",
    "    station_models[station_id] = model.fit()"
   ]
  },
  {
   "cell_type": "code",
   "execution_count": 190,
   "metadata": {
    "collapsed": true
   },
   "outputs": [],
   "source": [
    "model_auc = dict.fromkeys(unique_ids)\n",
    "\n",
    "for station_id in unique_ids:\n",
    "    model_auc[station_id] = metrics.roc_auc_score(sorted_hist[sorted_hist.ID == station_id].shortage_in_30[1:], station_models[station_id].predict())"
   ]
  },
  {
   "cell_type": "code",
   "execution_count": 193,
   "metadata": {
    "collapsed": true
   },
   "outputs": [],
   "source": [
    "\n",
    "with open('models.pickle', 'wb') as handle:\n",
    "    pickle.dump(station_models, handle, protocol=pickle.HIGHEST_PROTOCOL)"
   ]
  },
  {
   "cell_type": "code",
   "execution_count": null,
   "metadata": {
    "collapsed": true
   },
   "outputs": [],
   "source": []
  },
  {
   "cell_type": "markdown",
   "metadata": {},
   "source": [
    "# API Data Collection"
   ]
  },
  {
   "cell_type": "code",
   "execution_count": 20,
   "metadata": {
    "collapsed": true
   },
   "outputs": [],
   "source": [
    "import sodapy\n",
    "import pandas as pd"
   ]
  },
  {
   "cell_type": "code",
   "execution_count": 21,
   "metadata": {},
   "outputs": [
    {
     "name": "stderr",
     "output_type": "stream",
     "text": [
      "WARNING:root:Requests made without an app_token will be subject to strict throttling limits.\n"
     ]
    }
   ],
   "source": [
    "client = sodapy.Socrata(\"data.cityofchicago.org\", None)"
   ]
  },
  {
   "cell_type": "code",
   "execution_count": 23,
   "metadata": {
    "collapsed": true
   },
   "outputs": [],
   "source": [
    "id = 200"
   ]
  },
  {
   "cell_type": "code",
   "execution_count": 6,
   "metadata": {},
   "outputs": [
    {
     "data": {
      "text/plain": [
       "address             object\n",
       "available_bikes     object\n",
       "available_docks     object\n",
       "docks_in_service    object\n",
       "id                  object\n",
       "latitude            object\n",
       "location            object\n",
       "longitude           object\n",
       "percent_full        object\n",
       "record              object\n",
       "station_name        object\n",
       "status              object\n",
       "timestamp           object\n",
       "total_docks         object\n",
       "dtype: object"
      ]
     },
     "execution_count": 6,
     "metadata": {},
     "output_type": "execute_result"
    }
   ],
   "source": [
    "results_df.dtypes"
   ]
  },
  {
   "cell_type": "code",
   "execution_count": 24,
   "metadata": {},
   "outputs": [
    {
     "name": "stdout",
     "output_type": "stream",
     "text": [
      "                 address available_bikes available_docks docks_in_service  \\\n",
      "0    MLK Jr Dr & 47th St               1              10               11   \n",
      "1    MLK Jr Dr & 47th St               1              10               11   \n",
      "2    MLK Jr Dr & 47th St               1              10               11   \n",
      "3    MLK Jr Dr & 47th St               1              10               11   \n",
      "4    MLK Jr Dr & 47th St               1              10               11   \n",
      "5    MLK Jr Dr & 47th St               1              10               11   \n",
      "6    MLK Jr Dr & 47th St               1              10               11   \n",
      "7    MLK Jr Dr & 47th St               1              10               11   \n",
      "8    MLK Jr Dr & 47th St               1              10               11   \n",
      "9    MLK Jr Dr & 47th St               1              10               11   \n",
      "10   MLK Jr Dr & 47th St               1              10               11   \n",
      "11   MLK Jr Dr & 47th St               1              10               11   \n",
      "12   MLK Jr Dr & 47th St               1              10               11   \n",
      "13   MLK Jr Dr & 47th St               1              10               11   \n",
      "14   MLK Jr Dr & 47th St               1              10               11   \n",
      "15   MLK Jr Dr & 47th St               1              10               11   \n",
      "16   MLK Jr Dr & 47th St               1              10               11   \n",
      "17   MLK Jr Dr & 47th St               1              10               11   \n",
      "18   MLK Jr Dr & 47th St               1              10               11   \n",
      "19   MLK Jr Dr & 47th St               1              10               11   \n",
      "20   MLK Jr Dr & 47th St               1              10               11   \n",
      "21   MLK Jr Dr & 47th St               1              10               11   \n",
      "22   MLK Jr Dr & 47th St               1              10               11   \n",
      "23   MLK Jr Dr & 47th St               1              10               11   \n",
      "24   MLK Jr Dr & 47th St               1              10               11   \n",
      "25   MLK Jr Dr & 47th St               1              10               11   \n",
      "26   MLK Jr Dr & 47th St               1              10               11   \n",
      "27   MLK Jr Dr & 47th St               1              10               11   \n",
      "28   MLK Jr Dr & 47th St               1              10               11   \n",
      "29   MLK Jr Dr & 47th St               1              10               11   \n",
      "..                   ...             ...             ...              ...   \n",
      "109  MLK Jr Dr & 47th St               1              10               11   \n",
      "110  MLK Jr Dr & 47th St               1              10               11   \n",
      "111  MLK Jr Dr & 47th St               1              10               11   \n",
      "112  MLK Jr Dr & 47th St               1              10               11   \n",
      "113  MLK Jr Dr & 47th St               1              10               11   \n",
      "114  MLK Jr Dr & 47th St               1              10               11   \n",
      "115  MLK Jr Dr & 47th St               1              10               11   \n",
      "116  MLK Jr Dr & 47th St               1              10               11   \n",
      "117  MLK Jr Dr & 47th St               1              10               11   \n",
      "118  MLK Jr Dr & 47th St               1              10               11   \n",
      "119  MLK Jr Dr & 47th St               1              10               11   \n",
      "120  MLK Jr Dr & 47th St               1              10               11   \n",
      "121  MLK Jr Dr & 47th St               1              10               11   \n",
      "122  MLK Jr Dr & 47th St               1              10               11   \n",
      "123  MLK Jr Dr & 47th St               1              10               11   \n",
      "124  MLK Jr Dr & 47th St               1              10               11   \n",
      "125  MLK Jr Dr & 47th St               1              10               11   \n",
      "126  MLK Jr Dr & 47th St               1              10               11   \n",
      "127  MLK Jr Dr & 47th St               1              10               11   \n",
      "128  MLK Jr Dr & 47th St               1              10               11   \n",
      "129  MLK Jr Dr & 47th St               1              10               11   \n",
      "130  MLK Jr Dr & 47th St               1              10               11   \n",
      "131  MLK Jr Dr & 47th St               1              10               11   \n",
      "132  MLK Jr Dr & 47th St               1              10               11   \n",
      "133  MLK Jr Dr & 47th St               1              10               11   \n",
      "134  MLK Jr Dr & 47th St               1              10               11   \n",
      "135  MLK Jr Dr & 47th St               1              10               11   \n",
      "136  MLK Jr Dr & 47th St               1              10               11   \n",
      "137  MLK Jr Dr & 47th St               1              10               11   \n",
      "138  MLK Jr Dr & 47th St               1              10               11   \n",
      "\n",
      "      id   latitude                                           location  \\\n",
      "0    200  41.809851  {'coordinates': [-87.616279, 41.809851], 'type...   \n",
      "1    200  41.809851  {'coordinates': [-87.616279, 41.809851], 'type...   \n",
      "2    200  41.809851  {'coordinates': [-87.616279, 41.809851], 'type...   \n",
      "3    200  41.809851  {'coordinates': [-87.616279, 41.809851], 'type...   \n",
      "4    200  41.809851  {'coordinates': [-87.616279, 41.809851], 'type...   \n",
      "5    200  41.809851  {'coordinates': [-87.616279, 41.809851], 'type...   \n",
      "6    200  41.809851  {'coordinates': [-87.616279, 41.809851], 'type...   \n",
      "7    200  41.809851  {'coordinates': [-87.616279, 41.809851], 'type...   \n",
      "8    200  41.809851  {'coordinates': [-87.616279, 41.809851], 'type...   \n",
      "9    200  41.809851  {'coordinates': [-87.616279, 41.809851], 'type...   \n",
      "10   200  41.809851  {'coordinates': [-87.616279, 41.809851], 'type...   \n",
      "11   200  41.809851  {'coordinates': [-87.616279, 41.809851], 'type...   \n",
      "12   200  41.809851  {'coordinates': [-87.616279, 41.809851], 'type...   \n",
      "13   200  41.809851  {'coordinates': [-87.616279, 41.809851], 'type...   \n",
      "14   200  41.809851  {'coordinates': [-87.616279, 41.809851], 'type...   \n",
      "15   200  41.809851  {'coordinates': [-87.616279, 41.809851], 'type...   \n",
      "16   200  41.809851  {'coordinates': [-87.616279, 41.809851], 'type...   \n",
      "17   200  41.809851  {'coordinates': [-87.616279, 41.809851], 'type...   \n",
      "18   200  41.809851  {'coordinates': [-87.616279, 41.809851], 'type...   \n",
      "19   200  41.809851  {'coordinates': [-87.616279, 41.809851], 'type...   \n",
      "20   200  41.809851  {'coordinates': [-87.616279, 41.809851], 'type...   \n",
      "21   200  41.809851  {'coordinates': [-87.616279, 41.809851], 'type...   \n",
      "22   200  41.809851  {'coordinates': [-87.616279, 41.809851], 'type...   \n",
      "23   200  41.809851  {'coordinates': [-87.616279, 41.809851], 'type...   \n",
      "24   200  41.809851  {'coordinates': [-87.616279, 41.809851], 'type...   \n",
      "25   200  41.809851  {'coordinates': [-87.616279, 41.809851], 'type...   \n",
      "26   200  41.809851  {'coordinates': [-87.616279, 41.809851], 'type...   \n",
      "27   200  41.809851  {'coordinates': [-87.616279, 41.809851], 'type...   \n",
      "28   200  41.809851  {'coordinates': [-87.616279, 41.809851], 'type...   \n",
      "29   200  41.809851  {'coordinates': [-87.616279, 41.809851], 'type...   \n",
      "..   ...        ...                                                ...   \n",
      "109  200  41.809851  {'coordinates': [-87.616279, 41.809851], 'type...   \n",
      "110  200  41.809851  {'coordinates': [-87.616279, 41.809851], 'type...   \n",
      "111  200  41.809851  {'coordinates': [-87.616279, 41.809851], 'type...   \n",
      "112  200  41.809851  {'coordinates': [-87.616279, 41.809851], 'type...   \n",
      "113  200  41.809851  {'coordinates': [-87.616279, 41.809851], 'type...   \n",
      "114  200  41.809851  {'coordinates': [-87.616279, 41.809851], 'type...   \n",
      "115  200  41.809851  {'coordinates': [-87.616279, 41.809851], 'type...   \n",
      "116  200  41.809851  {'coordinates': [-87.616279, 41.809851], 'type...   \n",
      "117  200  41.809851  {'coordinates': [-87.616279, 41.809851], 'type...   \n",
      "118  200  41.809851  {'coordinates': [-87.616279, 41.809851], 'type...   \n",
      "119  200  41.809851  {'coordinates': [-87.616279, 41.809851], 'type...   \n",
      "120  200  41.809851  {'coordinates': [-87.616279, 41.809851], 'type...   \n",
      "121  200  41.809851  {'coordinates': [-87.616279, 41.809851], 'type...   \n",
      "122  200  41.809851  {'coordinates': [-87.616279, 41.809851], 'type...   \n",
      "123  200  41.809851  {'coordinates': [-87.616279, 41.809851], 'type...   \n",
      "124  200  41.809851  {'coordinates': [-87.616279, 41.809851], 'type...   \n",
      "125  200  41.809851  {'coordinates': [-87.616279, 41.809851], 'type...   \n",
      "126  200  41.809851  {'coordinates': [-87.616279, 41.809851], 'type...   \n",
      "127  200  41.809851  {'coordinates': [-87.616279, 41.809851], 'type...   \n",
      "128  200  41.809851  {'coordinates': [-87.616279, 41.809851], 'type...   \n",
      "129  200  41.809851  {'coordinates': [-87.616279, 41.809851], 'type...   \n",
      "130  200  41.809851  {'coordinates': [-87.616279, 41.809851], 'type...   \n",
      "131  200  41.809851  {'coordinates': [-87.616279, 41.809851], 'type...   \n",
      "132  200  41.809851  {'coordinates': [-87.616279, 41.809851], 'type...   \n",
      "133  200  41.809851  {'coordinates': [-87.616279, 41.809851], 'type...   \n",
      "134  200  41.809851  {'coordinates': [-87.616279, 41.809851], 'type...   \n",
      "135  200  41.809851  {'coordinates': [-87.616279, 41.809851], 'type...   \n",
      "136  200  41.809851  {'coordinates': [-87.616279, 41.809851], 'type...   \n",
      "137  200  41.809851  {'coordinates': [-87.616279, 41.809851], 'type...   \n",
      "138  200  41.809851  {'coordinates': [-87.616279, 41.809851], 'type...   \n",
      "\n",
      "      longitude percent_full             record         station_name  \\\n",
      "0    -87.616279            9  20020180221135517  MLK Jr Dr & 47th St   \n",
      "1    -87.616279            9  20020180221151501  MLK Jr Dr & 47th St   \n",
      "2    -87.616279            9  20020180221140500  MLK Jr Dr & 47th St   \n",
      "3    -87.616279            9  20020180221141516  MLK Jr Dr & 47th St   \n",
      "4    -87.616279            9  20020180221142510  MLK Jr Dr & 47th St   \n",
      "5    -87.616279            9  20020180221143520  MLK Jr Dr & 47th St   \n",
      "6    -87.616279            9  20020180221144505  MLK Jr Dr & 47th St   \n",
      "7    -87.616279            9  20020180221145524  MLK Jr Dr & 47th St   \n",
      "8    -87.616279            9  20020180221150517  MLK Jr Dr & 47th St   \n",
      "9    -87.616279            9  20020180221152514  MLK Jr Dr & 47th St   \n",
      "10   -87.616279            9  20020180221153514  MLK Jr Dr & 47th St   \n",
      "11   -87.616279            9  20020180221154510  MLK Jr Dr & 47th St   \n",
      "12   -87.616279            9  20020180221155514  MLK Jr Dr & 47th St   \n",
      "13   -87.616279            9  20020180221160524  MLK Jr Dr & 47th St   \n",
      "14   -87.616279            9  20020180221161518  MLK Jr Dr & 47th St   \n",
      "15   -87.616279            9  20020180221162516  MLK Jr Dr & 47th St   \n",
      "16   -87.616279            9  20020180221163517  MLK Jr Dr & 47th St   \n",
      "17   -87.616279            9  20020180221164457  MLK Jr Dr & 47th St   \n",
      "18   -87.616279            9  20020180221165530  MLK Jr Dr & 47th St   \n",
      "19   -87.616279            9  20020180221170527  MLK Jr Dr & 47th St   \n",
      "20   -87.616279            9  20020180221171516  MLK Jr Dr & 47th St   \n",
      "21   -87.616279            9  20020180221172505  MLK Jr Dr & 47th St   \n",
      "22   -87.616279            9  20020180221173504  MLK Jr Dr & 47th St   \n",
      "23   -87.616279            9  20020180221174501  MLK Jr Dr & 47th St   \n",
      "24   -87.616279            9  20020180221175505  MLK Jr Dr & 47th St   \n",
      "25   -87.616279            9  20020180221180514  MLK Jr Dr & 47th St   \n",
      "26   -87.616279            9  20020180221181514  MLK Jr Dr & 47th St   \n",
      "27   -87.616279            9  20020180221182530  MLK Jr Dr & 47th St   \n",
      "28   -87.616279            9  20020180221183503  MLK Jr Dr & 47th St   \n",
      "29   -87.616279            9  20020180221184504  MLK Jr Dr & 47th St   \n",
      "..          ...          ...                ...                  ...   \n",
      "109  -87.616279            9  20020180222080502  MLK Jr Dr & 47th St   \n",
      "110  -87.616279            9  20020180222081530  MLK Jr Dr & 47th St   \n",
      "111  -87.616279            9  20020180222082521  MLK Jr Dr & 47th St   \n",
      "112  -87.616279            9  20020180222083507  MLK Jr Dr & 47th St   \n",
      "113  -87.616279            9  20020180222084550  MLK Jr Dr & 47th St   \n",
      "114  -87.616279            9  20020180222085511  MLK Jr Dr & 47th St   \n",
      "115  -87.616279            9  20020180222090502  MLK Jr Dr & 47th St   \n",
      "116  -87.616279            9  20020180222091525  MLK Jr Dr & 47th St   \n",
      "117  -87.616279            9  20020180222092505  MLK Jr Dr & 47th St   \n",
      "118  -87.616279            9  20020180222093515  MLK Jr Dr & 47th St   \n",
      "119  -87.616279            9  20020180222094457  MLK Jr Dr & 47th St   \n",
      "120  -87.616279            9  20020180222095508  MLK Jr Dr & 47th St   \n",
      "121  -87.616279            9  20020180222100511  MLK Jr Dr & 47th St   \n",
      "122  -87.616279            9  20020180222101517  MLK Jr Dr & 47th St   \n",
      "123  -87.616279            9  20020180222102512  MLK Jr Dr & 47th St   \n",
      "124  -87.616279            9  20020180222103523  MLK Jr Dr & 47th St   \n",
      "125  -87.616279            9  20020180222104510  MLK Jr Dr & 47th St   \n",
      "126  -87.616279            9  20020180222105515  MLK Jr Dr & 47th St   \n",
      "127  -87.616279            9  20020180222110509  MLK Jr Dr & 47th St   \n",
      "128  -87.616279            9  20020180222111521  MLK Jr Dr & 47th St   \n",
      "129  -87.616279            9  20020180222112451  MLK Jr Dr & 47th St   \n",
      "130  -87.616279            9  20020180222113514  MLK Jr Dr & 47th St   \n",
      "131  -87.616279            9  20020180222114510  MLK Jr Dr & 47th St   \n",
      "132  -87.616279            9  20020180222115515  MLK Jr Dr & 47th St   \n",
      "133  -87.616279            9  20020180222120501  MLK Jr Dr & 47th St   \n",
      "134  -87.616279            9  20020180222121531  MLK Jr Dr & 47th St   \n",
      "135  -87.616279            9  20020180222122508  MLK Jr Dr & 47th St   \n",
      "136  -87.616279            9  20020180222123505  MLK Jr Dr & 47th St   \n",
      "137  -87.616279            9  20020180222124515  MLK Jr Dr & 47th St   \n",
      "138  -87.616279            9  20020180222125515  MLK Jr Dr & 47th St   \n",
      "\n",
      "         status                timestamp total_docks  \n",
      "0    In Service  2018-02-21T13:55:17.000          11  \n",
      "1    In Service  2018-02-21T15:15:01.000          11  \n",
      "2    In Service  2018-02-21T14:05:00.000          11  \n",
      "3    In Service  2018-02-21T14:15:16.000          11  \n",
      "4    In Service  2018-02-21T14:25:10.000          11  \n",
      "5    In Service  2018-02-21T14:35:20.000          11  \n",
      "6    In Service  2018-02-21T14:45:05.000          11  \n",
      "7    In Service  2018-02-21T14:55:24.000          11  \n",
      "8    In Service  2018-02-21T15:05:17.000          11  \n",
      "9    In Service  2018-02-21T15:25:14.000          11  \n",
      "10   In Service  2018-02-21T15:35:14.000          11  \n",
      "11   In Service  2018-02-21T15:45:10.000          11  \n",
      "12   In Service  2018-02-21T15:55:14.000          11  \n",
      "13   In Service  2018-02-21T16:05:24.000          11  \n",
      "14   In Service  2018-02-21T16:15:18.000          11  \n",
      "15   In Service  2018-02-21T16:25:16.000          11  \n",
      "16   In Service  2018-02-21T16:35:17.000          11  \n",
      "17   In Service  2018-02-21T16:44:57.000          11  \n",
      "18   In Service  2018-02-21T16:55:30.000          11  \n",
      "19   In Service  2018-02-21T17:05:27.000          11  \n",
      "20   In Service  2018-02-21T17:15:16.000          11  \n",
      "21   In Service  2018-02-21T17:25:05.000          11  \n",
      "22   In Service  2018-02-21T17:35:04.000          11  \n",
      "23   In Service  2018-02-21T17:45:01.000          11  \n",
      "24   In Service  2018-02-21T17:55:05.000          11  \n",
      "25   In Service  2018-02-21T18:05:14.000          11  \n",
      "26   In Service  2018-02-21T18:15:14.000          11  \n",
      "27   In Service  2018-02-21T18:25:30.000          11  \n",
      "28   In Service  2018-02-21T18:35:03.000          11  \n",
      "29   In Service  2018-02-21T18:45:04.000          11  \n",
      "..          ...                      ...         ...  \n",
      "109  In Service  2018-02-22T08:05:02.000          11  \n",
      "110  In Service  2018-02-22T08:15:30.000          11  \n",
      "111  In Service  2018-02-22T08:25:21.000          11  \n",
      "112  In Service  2018-02-22T08:35:07.000          11  \n",
      "113  In Service  2018-02-22T08:45:50.000          11  \n",
      "114  In Service  2018-02-22T08:55:11.000          11  \n",
      "115  In Service  2018-02-22T09:05:02.000          11  \n",
      "116  In Service  2018-02-22T09:15:25.000          11  \n",
      "117  In Service  2018-02-22T09:25:05.000          11  \n",
      "118  In Service  2018-02-22T09:35:15.000          11  \n",
      "119  In Service  2018-02-22T09:44:57.000          11  \n",
      "120  In Service  2018-02-22T09:55:08.000          11  \n",
      "121  In Service  2018-02-22T10:05:11.000          11  \n",
      "122  In Service  2018-02-22T10:15:17.000          11  \n",
      "123  In Service  2018-02-22T10:25:12.000          11  \n",
      "124  In Service  2018-02-22T10:35:23.000          11  \n",
      "125  In Service  2018-02-22T10:45:10.000          11  \n",
      "126  In Service  2018-02-22T10:55:15.000          11  \n",
      "127  In Service  2018-02-22T11:05:09.000          11  \n",
      "128  In Service  2018-02-22T11:15:21.000          11  \n",
      "129  In Service  2018-02-22T11:24:51.000          11  \n",
      "130  In Service  2018-02-22T11:35:14.000          11  \n",
      "131  In Service  2018-02-22T11:45:10.000          11  \n",
      "132  In Service  2018-02-22T11:55:15.000          11  \n",
      "133  In Service  2018-02-22T12:05:01.000          11  \n",
      "134  In Service  2018-02-22T12:15:31.000          11  \n",
      "135  In Service  2018-02-22T12:25:08.000          11  \n",
      "136  In Service  2018-02-22T12:35:05.000          11  \n",
      "137  In Service  2018-02-22T12:45:15.000          11  \n",
      "138  In Service  2018-02-22T12:55:15.000          11  \n",
      "\n",
      "[139 rows x 14 columns]\n"
     ]
    }
   ],
   "source": [
    "results = client.get(\"eq45-8inv\", id = id, limit = 2000, where = \"timestamp > '{}'\".format(x))\n",
    "results_df = pd.DataFrame.from_records(results)\n",
    "print(results_df)"
   ]
  },
  {
   "cell_type": "code",
   "execution_count": 1,
   "metadata": {
    "collapsed": true
   },
   "outputs": [],
   "source": [
    "import datetime"
   ]
  },
  {
   "cell_type": "code",
   "execution_count": 4,
   "metadata": {},
   "outputs": [
    {
     "data": {
      "text/plain": [
       "'18-02-22 13'"
      ]
     },
     "execution_count": 4,
     "metadata": {},
     "output_type": "execute_result"
    }
   ],
   "source": [
    "datetime.datetime.now().strftime(\"%y-%m-%d %H\")"
   ]
  },
  {
   "cell_type": "code",
   "execution_count": 16,
   "metadata": {
    "collapsed": true
   },
   "outputs": [],
   "source": [
    "x = (datetime.datetime.now()-datetime.timedelta(days = 1)).strftime(\"%Y-%m-%dT%H:%M:%S\")"
   ]
  },
  {
   "cell_type": "code",
   "execution_count": 17,
   "metadata": {},
   "outputs": [
    {
     "data": {
      "text/plain": [
       "'2018-02-21T13:54:46'"
      ]
     },
     "execution_count": 17,
     "metadata": {},
     "output_type": "execute_result"
    }
   ],
   "source": [
    "x"
   ]
  },
  {
   "cell_type": "code",
   "execution_count": null,
   "metadata": {
    "collapsed": true
   },
   "outputs": [],
   "source": []
  }
 ],
 "metadata": {
  "anaconda-cloud": {},
  "kernelspec": {
   "display_name": "Python [default]",
   "language": "python",
   "name": "python3"
  },
  "language_info": {
   "codemirror_mode": {
    "name": "ipython",
    "version": 3
   },
   "file_extension": ".py",
   "mimetype": "text/x-python",
   "name": "python",
   "nbconvert_exporter": "python",
   "pygments_lexer": "ipython3",
   "version": "3.5.2"
  }
 },
 "nbformat": 4,
 "nbformat_minor": 2
}
